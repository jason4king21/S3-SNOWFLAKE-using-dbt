{
 "metadata": {
  "kernelspec": {
   "display_name": "Streamlit Notebook",
   "name": "streamlit"
  },
  "lastEditStatus": {
   "notebookId": "vkyspgdtk7zohany35ej",
   "authorId": "6175238016010",
   "authorName": "JKINGWALMART",
   "authorEmail": "jason4king21@gmail.com",
   "sessionId": "14986168-b0a1-402d-bc80-bc1f098c12e8",
   "lastEditTime": 1748890403001
  }
 },
 "nbformat_minor": 5,
 "nbformat": 4,
 "cells": [
  {
   "cell_type": "markdown",
   "id": "27022327-636e-4b9f-8c1c-dbe80ea980ba",
   "metadata": {
    "name": "md_title",
    "collapsed": false
   },
   "source": "# Build a Dashboard to Visualize Walmart Data 📓\n\n"
  },
  {
   "cell_type": "markdown",
   "id": "e8ea7b94-f51d-4774-8cfc-2cf704edb321",
   "metadata": {
    "name": "md_import",
    "collapsed": false
   },
   "source": "## Import libraries\n\nIn this notebook, we're using `pandas` for data handling/wrangling, `numpy` for numerical processing, `datetime` for handling date/time data type and `streamlit` for displaying visual elements (charts and DataFrames)."
  },
  {
   "cell_type": "code",
   "id": "f94b0675-3275-4dc0-8380-7a3d3730fe0c",
   "metadata": {
    "language": "python",
    "name": "py_import",
    "codeCollapsed": false,
    "collapsed": false
   },
   "outputs": [],
   "source": "import pandas as pd\nimport numpy as np\nfrom datetime import datetime\nimport streamlit as st\nimport matplotlib.pyplot as plt\nfrom snowflake.snowpark import Session\nimport calendar\nfrom matplotlib.backends.backend_pdf import PdfPages\nfrom io import BytesIO",
   "execution_count": null
  },
  {
   "cell_type": "markdown",
   "id": "39d9400f-eaf7-402f-9170-ce83c4157418",
   "metadata": {
    "name": "md_DefineFunctions",
    "collapsed": false
   },
   "source": "## Define Functions"
  },
  {
   "cell_type": "code",
   "id": "cb0b91cf-4d3e-46df-98b0-f55da4e10f33",
   "metadata": {
    "language": "python",
    "name": "py_def_render_table"
   },
   "outputs": [],
   "source": "def render_table(dataframe, title, col_width=3.0, row_height=0.625, font_size=14):\n    import matplotlib.pyplot as plt\n    fig, ax = plt.subplots(figsize=(col_width * len(dataframe.columns), row_height * len(dataframe)))\n    ax.axis('off')\n    table = ax.table(cellText=dataframe.values, colLabels=dataframe.columns, loc='center')\n    table.auto_set_font_size(False)\n    table.set_fontsize(font_size)\n    table.scale(1, 1.5)\n    plt.title(title)\n    return fig\n",
   "execution_count": null
  },
  {
   "cell_type": "code",
   "id": "9f4ff858-14a5-4dff-a7b0-f6c2ebc296d5",
   "metadata": {
    "language": "python",
    "name": "py_def_render_df_to_pdf_table"
   },
   "outputs": [],
   "source": "import matplotlib.pyplot as plt\n\ndef render_df_to_pdf_table(df, title=\"\", col_width=3.0, row_height=0.625, font_size=12):\n    n_rows, n_cols = df.shape\n\n    # Create a figure and axis\n    fig, ax = plt.subplots(figsize=(col_width * n_cols, row_height * (n_rows + 1)))\n    ax.axis('off')\n\n    # Format values if needed\n    formatted_data = df.copy()\n    if 'WEEKLY_SALES' in formatted_data.columns:\n        formatted_data['WEEKLY_SALES'] = formatted_data['WEEKLY_SALES'].map('{:,.2f}'.format)\n\n    # Create table\n    table = ax.table(\n        cellText=formatted_data.values,\n        colLabels=formatted_data.columns,\n        cellLoc='center',\n        colLoc='center',\n        loc='center'\n    )\n\n    # Style\n    table.auto_set_font_size(False)\n    table.set_fontsize(font_size)\n    table.scale(1.1, 1.3)\n\n    # Optional title\n    if title:\n        plt.title(title, fontsize=font_size + 2, pad=10)\n\n    # Bold header row\n    for (row, col), cell in table.get_celld().items():\n        if row == 0:\n            cell.set_text_props(weight='bold')\n            cell.set_facecolor(\"#f1f3f6\")  # Light header color\n        elif row % 2 == 0:\n            cell.set_facecolor(\"#fafafa\")  # Light row banding\n        else:\n            cell.set_facecolor(\"#ffffff\")  # Alternating row color\n\n        # Optional: remove table borders for a cleaner look\n        cell.set_edgecolor('#dddddd')\n\n    return fig\n",
   "execution_count": null
  },
  {
   "cell_type": "markdown",
   "id": "0d9aa657-77f3-45b7-932f-2236ca1be632",
   "metadata": {
    "name": "md_WeeklySalesbyStoreHoliday",
    "collapsed": false
   },
   "source": "## Weekly Sales by Store and Holiday\n"
  },
  {
   "cell_type": "code",
   "id": "c47b1543-7591-4f5e-9c86-06d003953f48",
   "metadata": {
    "language": "python",
    "name": "py_Weekly_Sales_by_Store_IsHoliday",
    "codeCollapsed": false,
    "collapsed": false
   },
   "outputs": [],
   "source": "session = Session.builder.getOrCreate()\n\n# Create DataFrame\n# df = pd.DataFrame(data)\ndf = session.table(\"GOLD.weekly_sales_by_store\").to_pandas()\n\n\n# df.groupby(\"ISHOLIDAY\")[\"WEEKLY_SALES\"].sum().plot.pie(autopct=\"%1.1f%%\", ylabel=\"\")\n# plt.title(\"Weekly Sales by IsHoliday\")\n# plt.show()\n\n# Initialize PdfPages\npdf_path = \"weekly_sales_report.pdf\"\npdf = PdfPages(pdf_path)\n\n# -- STREAMLIT DASHBOARD UI --\nst.title(\"Weekly Sales by Store and Holiday\")\n\n# Pie chart: Weekly_Sales by IsHoliday\nst.subheader(\"Weekly_Sales by IsHoliday\")\nsales_by_isholiday = df.groupby('ISHOLIDAY')['WEEKLY_SALES'].sum()\nfig1, ax1 = plt.subplots()\nlabels = sales_by_isholiday.index.astype(str).tolist()\nax1.pie(sales_by_isholiday, labels=labels, autopct='%1.1f%%', startangle=90)\nax1.axis('equal')\nst.pyplot(fig1)\n\n\n# KPI: Total Weekly Sales\ntotal_sales = df['WEEKLY_SALES'].sum()\nst.metric(label=\"Weekly_Sales\", value=f\"{total_sales/1e9:.2f}bn\")\n\n# KPI: First IsHoliday value in dataset\nfirst_isholiday = str(df['ISHOLIDAY'].iloc[0]).upper()\nst.metric(label=\"First IsHoliday\", value=first_isholiday)\n\n# Bar chart: Weekly Sales by Store and IsHoliday\nst.subheader(\"Weekly Sales by Store and IsHoliday\")\nfig2, ax2 = plt.subplots(figsize=(14, 6))\npivoted = df.pivot_table(\n    index='STORE_ID',\n    columns='ISHOLIDAY',\n    values='WEEKLY_SALES',\n    aggfunc='sum',\n    fill_value=0\n)\n\npivoted.plot(kind='bar', stacked=False, ax=ax2, color={False: 'dodgerblue', True: 'dimgray'})\nax2.set_ylabel(\"Weekly Sales\")\nax2.set_xlabel(\"Store\")\nax2.set_title(\"Sales by Store Grouped by IsHoliday\")\nax2.legend([\"FALSE\", \"TRUE\"])\nst.pyplot(fig2)",
   "execution_count": null
  },
  {
   "cell_type": "markdown",
   "id": "2130209f-55ab-4c55-aa5e-94ba75a370af",
   "metadata": {
    "name": "md_Weekly_Sales_by_Tempature_Year",
    "collapsed": false
   },
   "source": "## Weekly Sales by Tempature and Year"
  },
  {
   "cell_type": "code",
   "id": "9d6fdba8-5e66-44bf-ba88-36df7522019b",
   "metadata": {
    "language": "python",
    "name": "py_weekly_sales_by_tempature_year",
    "collapsed": false,
    "codeCollapsed": false
   },
   "outputs": [],
   "source": "session = Session.builder.getOrCreate()\n\n# Create DataFrame\n# df = pd.DataFrame(data)\ndf = session.table(\"GOLD.WEEKLY_SALES_BY_TEMPATURE_YEAR\").to_pandas()\n\n\n# -- STREAMLIT DASHBOARD UI --\nst.title(\"Weekly Sales by Tempature and Year\")\n\n# KPI: Total Weekly Sales\ntotal_sales = df['WEEKLY_SALES'].sum()\nst.metric(label=\"Weekly_Sales\", value=f\"{total_sales/1e9:.2f}bn\")\n\n# Bar chart: Weekly Sales by Store and IsHoliday\ndef bucket_temp(temp):\n    if temp < 40: return 'Cold'\n    elif temp < 70: return 'Mild'\n    else: return 'Hot'\n\ndf['TEMP_BUCKET'] = df['STORE_TEMPERATURE'].apply(bucket_temp)\n\nst.subheader(\"Weekly Sales by Temperature and Year\")\nfig2, ax2 = plt.subplots(figsize=(14, 6))\npivoted = df.pivot_table(\n    index='YEAR',\n    columns='TEMP_BUCKET',\n    values='WEEKLY_SALES',\n    aggfunc='sum',\n    fill_value=0\n)\n\npivoted.plot(kind='bar', stacked=False, ax=ax2)\nax2.set_ylabel(\"Weekly Sales\")\nax2.set_xlabel(\"Year\")\nax2.set_title(\"Sales by Temperature Grouped by Year\")\nst.pyplot(fig2)",
   "execution_count": null
  },
  {
   "cell_type": "markdown",
   "id": "ceac3869-b275-4200-ac00-d9a8ebc14c3e",
   "metadata": {
    "name": "md_Weekly_Sales_by_Store_Size",
    "collapsed": false
   },
   "source": "## Weekly Sales by Store Size"
  },
  {
   "cell_type": "code",
   "id": "6025b16d-f275-4f05-8b24-1dcef54fad69",
   "metadata": {
    "language": "python",
    "name": "py_weekly_sales_by_store_size"
   },
   "outputs": [],
   "source": "session = Session.builder.getOrCreate()\n\n# Create DataFrame\n# df = pd.DataFrame(data)\ndf = session.table(\"GOLD.weekly_sales_by_store_size\").to_pandas()\n\n\n# Sort by SIZE just in case\ndf = df.sort_values(by='SIZE')\n\n# Line chart with matplotlib\nst.title(\"Weekly Sales by Store Size\")\n\nfig, ax = plt.subplots(figsize=(10, 5))\nax.plot(df['SIZE'], df['WEEKLY_SALES'], marker='o', linestyle='-')\nax.set_xlabel(\"Store Size\")\nax.set_ylabel(\"Weekly Sales\")\nax.set_title(\"Line Chart: Weekly Sales vs. Store Size\")\nst.pyplot(fig)",
   "execution_count": null
  },
  {
   "cell_type": "markdown",
   "id": "13dd75fc-70eb-42b9-9b97-fa7168abfb96",
   "metadata": {
    "name": "md_Weekly_Sales_by_Type_Month",
    "collapsed": false
   },
   "source": "## Weekly Sales by Type and Month"
  },
  {
   "cell_type": "code",
   "id": "9006eaa8-6d95-4e6f-add1-c4360d3d61fb",
   "metadata": {
    "language": "python",
    "name": "py_weekly_sales_by_store_type_month"
   },
   "outputs": [],
   "source": "session = Session.builder.getOrCreate()\n\n# Create DataFrame\n# df = pd.DataFrame(data)\ndf = session.table(\"GOLD.weekly_sales_by_store_type_month\").to_pandas()\n\n# Ensure MONTH is int (1-12)\ndf['MONTH'] = df['MONTH'].astype(int)\n\n# Generate month name from number\ndf['MONTH_NAME'] = df['MONTH'].apply(lambda x: calendar.month_name[x])\n\n# Define proper chronological order\nmonth_order = [calendar.month_name[i] for i in range(1, 13)]\n\n# Set MONTH_NAME as ordered categorical\ndf['MONTH_NAME'] = pd.Categorical(df['MONTH_NAME'], categories=month_order, ordered=True)\n\n# Sort BEFORE pivoting\ndf = df.sort_values('MONTH_NAME')\n\npivoted = df.pivot_table(\n    index='MONTH_NAME',\n    columns='TYPE',\n    values='WEEKLY_SALES',\n    aggfunc='sum',\n    fill_value=0,\n    observed=False\n)\n\n# Plot\nst.title(\"Weekly Sales by Type and Month\")\n\nfig, ax = plt.subplots(figsize=(12, 6))\npivoted.plot(ax=ax, marker='o', linewidth=2)\nax.set_ylabel(\"Weekly Sales\")\nax.set_xlabel(\"Month\")\nax.set_title(\"Weekly Sales Trends by Store Type\")\nax.legend(title='Type')\nplt.xticks(rotation=45)\nst.pyplot(fig)",
   "execution_count": null
  },
  {
   "cell_type": "markdown",
   "id": "907d52bf-03a9-4752-95d1-be7c9a308f8c",
   "metadata": {
    "name": "md_MarkdownSalesbyStoreYear",
    "collapsed": false
   },
   "source": "## Markdown Sales by Store and Year"
  },
  {
   "cell_type": "code",
   "id": "c1519a55-d673-4e05-92f8-5547031c3788",
   "metadata": {
    "language": "python",
    "name": "py_markdown_sales_year_store"
   },
   "outputs": [],
   "source": "# Start Snowflake session\nsession = Session.builder.getOrCreate()\n\n# Load the markdown sales data\ndf = session.table(\"WALMART.GOLD.MARKDOWN_SALES_YEAR_STORE\").to_pandas()\n\n# Group and aggregate markdown totals by year\nagg_df = df.groupby(\"YEAR\")[['MARKDOWN1', 'MARKDOWN2', 'MARKDOWN3', 'MARKDOWN4', 'MARKDOWN5']].sum().reset_index()\n\n# Chart layout\nst.title(\"Markdown Sales by Store and Year\")\nst.subheader(\"Group Bar Chart of Markdown Components\")\n\n# Plotting\nfig, ax = plt.subplots(figsize=(10, 6))\nbar_width = 0.15\nyears = agg_df['YEAR'].astype(str)\nx = range(len(years))\nmarkdown_cols = ['MARKDOWN1', 'MARKDOWN2', 'MARKDOWN3', 'MARKDOWN4', 'MARKDOWN5']\ncolors = ['cornflowerblue', 'gray', 'tomato', 'sandybrown', 'dimgray']\n\nfor i, col in enumerate(markdown_cols):\n    bar = ax.bar(\n        [xi + i * bar_width for xi in x],\n        agg_df[col] / 1e9,  # convert to billions for better scale\n        width=bar_width,\n        label=col,\n        color=colors[i]\n    )\n    # Add value labels\n    for rect in bar:\n        height = rect.get_height()\n        ax.annotate(f'{height:.2f}bn',\n                    xy=(rect.get_x() + rect.get_width() / 2, height),\n                    xytext=(0, 3),\n                    textcoords=\"offset points\",\n                    ha='center', va='bottom', fontsize=8)\n\n# Styling\nax.set_xlabel(\"Year\")\nax.set_ylabel(\"Markdowns (in Billions)\")\nax.set_title(\"Markdown1, Markdown2, Markdown3, Markdown4 and Markdown5 by Year\")\nax.set_xticks([r + bar_width * 2 for r in x])\nax.set_xticklabels(years)\nax.legend(title=\"Type\")\nst.pyplot(fig)\n\n\n# PIVOT TABLE DISPLAY ---\nst.subheader(\"Markdown Sales by Year and Store\")\npivot_table = df.groupby(['YEAR', 'STORE_ID'])[\n    ['MARKDOWN1', 'MARKDOWN2', 'MARKDOWN3', 'MARKDOWN4', 'MARKDOWN5']\n].sum().reset_index()\n\n# format large numbers\nstyled_pivot = pivot_table.style.format({\n    'MARKDOWN1': '{:,.2f}',\n    'MARKDOWN2': '{:,.2f}',\n    'MARKDOWN3': '{:,.2f}',\n    'MARKDOWN4': '{:,.2f}',\n    'MARKDOWN5': '{:,.2f}',\n})\nfig_table = render_table(pivot_table, title=\"Markdown Sales by Year and Store\")\nst.dataframe(styled_pivot, use_container_width=True)",
   "execution_count": null
  },
  {
   "cell_type": "markdown",
   "id": "9a198710-1b5e-4e80-b7ab-104d12a5d5b5",
   "metadata": {
    "name": "md_WeeklySalesbyStoreandType",
    "collapsed": false
   },
   "source": "## Weekly Sales by Store and Type"
  },
  {
   "cell_type": "code",
   "id": "2288f897-04cc-4578-b039-a5e6950d28de",
   "metadata": {
    "language": "python",
    "name": "py_weekly_sales_by_store_type"
   },
   "outputs": [],
   "source": "# Start Snowflake session\nsession = Session.builder.getOrCreate()\n\n# Load the assumed data: includes TYPE, STORE_ID, WEEKLY_SALES\ndf = session.table(\"GOLD.WEEKLY_SALES_BY_STORE_TYPE\").to_pandas()\n\n# Format and sort\ndf['WEEKLY_SALES_M'] = df['WEEKLY_SALES'] / 1e6  # Convert to millions\ndf = df.sort_values(['TYPE', 'WEEKLY_SALES_M'])\n\n# Chart\nst.title(\"Weekly Sales by Store and Type\")\nst.subheader(\"Horizontal Grouped Bar Chart\")\n\n# Create figure\nfig, ax = plt.subplots(figsize=(12, 8))\n\n# Plot bars grouped by TYPE\ncolors = plt.cm.get_cmap(\"tab20\", df['STORE_ID'].nunique())\nfor i, store_type in enumerate(df['TYPE'].unique()):\n    type_df = df[df['TYPE'] == store_type]\n    ax.barh(\n        y=[f\"{store_type}-{int(s)}\" for s in type_df['STORE_ID']],\n        width=type_df['WEEKLY_SALES_M'],\n        label=store_type\n    )\n\n# Formatting\nax.set_xlabel(\"Weekly Sales (in Millions)\")\nax.set_ylabel(\"Store-Type\")\nax.set_title(\"Weekly Sales by Type and Store\")\nax.legend(title=\"Store Type\")\nplt.tight_layout()\nst.pyplot(fig)\n\n\n",
   "execution_count": null
  },
  {
   "cell_type": "markdown",
   "id": "d8eda979-8e93-49fa-9b97-380ff80dedf0",
   "metadata": {
    "name": "md_FuelPricebyStoreYear",
    "collapsed": false
   },
   "source": "## Fuel Price by Store and Year"
  },
  {
   "cell_type": "code",
   "id": "e0ec38a7-106c-4a56-b39c-c7154911208d",
   "metadata": {
    "language": "python",
    "name": "py_fuel_price_by_store"
   },
   "outputs": [],
   "source": "# Start session and load the data\nsession = Session.builder.getOrCreate()\ndf = session.table(\"WALMART.GOLD.FUEL_PRICE_BY_STORE_YEAR\").to_pandas()\n\n# Pivot table: Average fuel price per store per year\npivot_table = df.pivot_table(\n    index='STORE_ID',\n    columns='YEAR',\n    values='FUEL_PRICE',\n    aggfunc='mean',\n    fill_value=0\n)\n\n# Add row total\npivot_table['Total'] = pivot_table.sum(axis=1)\n\n# Add column total\ntotals_row = pivot_table.sum(numeric_only=True).to_frame().T\ntotals_row.index = ['Total']\n\n# Combine pivot with totals row\nfinal_table = pd.concat([pivot_table, totals_row])\nfinal_table.columns = final_table.columns.map(str)\n\n\n# Format\nstyled = final_table.style.format(\"{:,.2f}\")\n\n# Display in Streamlit\nst.title(\"Fuel Price by Store and Year\")\nst.dataframe(styled, use_container_width=True)\n\nfig_table = render_table(final_table, title=\"Fuel Price by Store and Year\")\n\n\n\n",
   "execution_count": null
  },
  {
   "cell_type": "markdown",
   "id": "945fcd5d-1cab-4d19-b010-b09b7880595e",
   "metadata": {
    "name": "md_weeklysalesbreakdown",
    "collapsed": false
   },
   "source": "## Weekly Sales Breakdown"
  },
  {
   "cell_type": "code",
   "id": "844a0d3f-9edd-4207-912b-8cfb4cd8bd8e",
   "metadata": {
    "language": "python",
    "name": "py_weekly_sales_breakdown"
   },
   "outputs": [],
   "source": "# Start Snowflake session and load the view\nsession = Session.builder.getOrCreate()\ndf = session.table(\"GOLD.weekly_sales_breakdown\").to_pandas()\n\n# Normalize column names to uppercase (if not already)\ndf.columns = df.columns.str.upper()\n\n# Convert to billions and sort\ndf['WEEKLY_SALES_B'] = df['WEEKLY_SALES'] / 1e9\n\n# ----- Chart 1: Weekly Sales by Year -----\nst.subheader(\"Weekly Sales by Year\")\nsales_by_year = df.groupby('SALES_YEAR')['WEEKLY_SALES_B'].sum().reset_index()\n\nfig1, ax1 = plt.subplots()\nax1.bar(sales_by_year['SALES_YEAR'].astype(str), sales_by_year['WEEKLY_SALES_B'], color='deepskyblue')\nax1.set_ylabel(\"Sales (in Billions)\")\nfor i, val in enumerate(sales_by_year['WEEKLY_SALES_B']):\n    ax1.text(i, val + 0.01, f\"{val:.2f}bn\", ha='center', fontsize=8)\nst.pyplot(fig1)\n\n# ----- Chart 2: Weekly Sales by Month -----\nst.subheader(\"Weekly Sales by Month\")\nmonth_order = ['January', 'February', 'March', 'April', 'May', 'June',\n               'July', 'August', 'September', 'October', 'November', 'December']\ndf['SALES_MONTH'] = pd.Categorical(df['SALES_MONTH'], categories=month_order, ordered=True)\nsales_by_month = (\n    df.groupby('SALES_MONTH', observed=False)['WEEKLY_SALES_B']\n    .sum()\n    .reindex(month_order)\n    .reset_index()\n)\n\nfig2, ax2 = plt.subplots()\nax2.bar(sales_by_month['SALES_MONTH'], sales_by_month['WEEKLY_SALES_B'], color='deepskyblue')\nax2.set_ylabel(\"Sales (in Billions)\")\nplt.xticks(rotation=45)\nfor i, val in enumerate(sales_by_month['WEEKLY_SALES_B']):\n    ax2.text(i, val + 0.01, f\"{val:.2f}bn\", ha='center', fontsize=8)\nst.pyplot(fig2)\n\n# ----- Chart 3: Weekly Sales by Day -----\nst.subheader(\"Weekly Sales by Day\")\nsales_by_day = df.groupby('SALES_DAY')['WEEKLY_SALES'].sum().reset_index()\n\nfig3, ax3 = plt.subplots()\nax3.bar(sales_by_day['SALES_DAY'], sales_by_day['WEEKLY_SALES'] / 1e6, color='deepskyblue')\nax3.set_ylabel(\"Sales (in Millions)\")\nax3.set_xlabel(\"Day of Month\")\nfor i, val in enumerate(sales_by_day['WEEKLY_SALES']):\n    ax3.text(sales_by_day['SALES_DAY'][i], val / 1e6 + 5, f\"{val/1e6:.0f}M\", ha='center', fontsize=8)\nst.pyplot(fig3)\n\n\n",
   "execution_count": null
  },
  {
   "cell_type": "markdown",
   "id": "7cfbcc08-cb5b-46ea-8ca7-fb4591ad42ee",
   "metadata": {
    "name": "md_WeeklySalesbyCPI",
    "collapsed": false
   },
   "source": "## Weekly Sales by CPI"
  },
  {
   "cell_type": "code",
   "id": "39683d70-105c-4091-b888-a4c103933ead",
   "metadata": {
    "language": "python",
    "name": "py_WEEKLY_SALES_BY_CPI"
   },
   "outputs": [],
   "source": "# Start session and load the dbt view\nsession = Session.builder.getOrCreate()\ndf = session.table(\"GOLD.WEEKLY_SALES_BY_CPI\").to_pandas()\n\n# Normalize column names to uppercase\ndf.columns = df.columns.str.upper()\n\n# Sort by CPI (already numeric now)\ndf = df.sort_values(by='CPI')\n\n# Plot\nst.title(\"Weekly Sales by CPI\")\nst.subheader(\"Weekly_Sales by CPI\")\n\nfig, ax = plt.subplots(figsize=(12, 6))\nax.plot(df['CPI'], df['WEEKLY_SALES'] / 1e6, linestyle='-', marker='.', color='deepskyblue')\nax.set_xlabel(\"CPI\")\nax.set_ylabel(\"Weekly Sales (in Millions)\")\nax.set_title(\"Weekly Sales by CPI\")\n\n# Annotate top 10 points\ntop_points = df.sort_values('WEEKLY_SALES', ascending=False).head(10)\nfor _, row in top_points.iterrows():\n    ax.annotate(f\"{row['WEEKLY_SALES'] / 1e6:.1f}M\",\n                (row['CPI'], row['WEEKLY_SALES'] / 1e6),\n                textcoords=\"offset points\", xytext=(0, 6), ha='center', fontsize=8)\n\nst.pyplot(fig)\n",
   "execution_count": null
  },
  {
   "cell_type": "markdown",
   "id": "e08bc202-0b12-4f88-9586-2ac9c374d0a4",
   "metadata": {
    "name": "md_DepartmentWiseWeeklySales",
    "collapsed": false
   },
   "source": "## Department Wise Weekly Sales"
  },
  {
   "cell_type": "code",
   "id": "93d703cd-4d07-4965-93ee-a050ffcd4d8b",
   "metadata": {
    "language": "python",
    "name": "py_WEEKLY_SALES_BY_DEPT"
   },
   "outputs": [],
   "source": "# Start session and load the view\nsession = Session.builder.getOrCreate()\ndf = session.table(\"GOLD.WEEKLY_SALES_BY_DEPT\").to_pandas()\ndf.columns = df.columns.str.upper()\n\n# Convert to billions for total metric\ntotal_sales = df['WEEKLY_SALES'].sum()\ntop5 = df.nlargest(5, 'WEEKLY_SALES')\n\n# Display dashboard\nst.title(\"Department Wise Weekly Sales\")\n\n# KPI\nst.metric(label=\"Weekly_Sales\", value=f\"{total_sales / 1e9:.3f}bn\")\n\n# Top 5 departments\nst.subheader(\"Top 5 Department-Wise Sales\")\nst.dataframe(top5.style.format({\"WEEKLY_SALES\": \"{:,.2f}\"}), use_container_width=True)\n\nfig_top5 = render_df_to_pdf_table(top5, title=\"Top 5 Department-Wise Sales\")\n\n# Full department table\nst.subheader(\"All Department Sales\")\nst.dataframe(df.sort_values(\"DEPT_ID\").style.format({\"WEEKLY_SALES\": \"{:,.2f}\"}), use_container_width=True)\n\nfig_all = render_df_to_pdf_table(df, title=\"All Department Sales\")\n\n# Bar chart\nst.subheader(\"Weekly_Sales by Department\")\nfig, ax = plt.subplots(figsize=(14, 6))\nax.bar(df['DEPT_ID'].astype(str), df['WEEKLY_SALES'] / 1e9, color='slateblue')\nax.set_xlabel(\"Department\")\nax.set_ylabel(\"Sales (in Billions)\")\nax.set_title(\"Weekly Sales by Department\")\n\n# Annotate top spikes\ntop_labels = df.nlargest(10, 'WEEKLY_SALES')\nfor _, row in top_labels.iterrows():\n    ax.annotate(f\"{row['WEEKLY_SALES']/1e9:.2f}bn\", \n                (str(row['DEPT_ID']), row['WEEKLY_SALES']/1e9),\n                textcoords=\"offset points\", xytext=(0,5), ha='center', fontsize=8)\n\nst.pyplot(fig)\n\n\n# Create a BytesIO buffer to hold the PDF data\npdf_buffer = BytesIO()\n\n# Initialize PdfPages with the buffer\nwith PdfPages(pdf_buffer) as pdf:\n    # Retrieve all figure numbers\n    fig_nums = plt.get_fignums()\n    # Iterate through each figure and save it to the PDF\n    for fig_num in fig_nums:\n        fig = plt.figure(fig_num)\n        pdf.savefig(fig)\n        plt.close(fig)  # Close the figure after saving to free up memory\n\n# Reset buffer position to the beginning\npdf_buffer.seek(0)\n\nst.download_button(\n    label=\"📄 Download All Charts as PDF\",\n    data=pdf_buffer,\n    file_name=\"all_charts.pdf\",\n    mime=\"application/pdf\"\n)\n",
   "execution_count": null
  }
 ]
}